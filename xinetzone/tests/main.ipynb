{
 "cells": [
  {
   "cell_type": "markdown",
   "metadata": {},
   "source": [
    "# 测试"
   ]
  },
  {
   "cell_type": "code",
   "execution_count": 1,
   "metadata": {},
   "outputs": [],
   "source": [
    "import cv2\n",
    "from PySide6.QtPrintSupport import QPrintDialog, QPrinter\n",
    "from PySide6.QtWidgets import (QApplication, QDialog, QFileDialog, QLabel,\n",
    "                               QMainWindow, QMessageBox, QScrollArea,\n",
    "                               QSizePolicy)\n",
    "from PySide6.QtGui import (QColorSpace, QGuiApplication,\n",
    "                           QImageReader, QImageWriter, QKeySequence,\n",
    "                           QPalette, QPainter, QPixmap, QImage)\n",
    "from PySide6.QtCore import QDir, QStandardPaths, Qt, Slot"
   ]
  },
  {
   "cell_type": "code",
   "execution_count": 2,
   "metadata": {},
   "outputs": [],
   "source": [
    "image_path = r\"C:\\Users\\xinzo\\Desktop\\study\\color_mapping\\image_side\\1.JPG\"\n",
    "frame = cv2.imread(image_path)\n",
    "# if self.height() > self.width():\n",
    "#     width = self.width()\n",
    "#     height = int(frame.shape[0] * (width / frame.shape[1]))\n",
    "# else:\n",
    "#     height = self.height()\n",
    "#     width = int(frame.shape[1] * (height / frame.shape[0]))\n",
    "# frame = cv2.resize(frame, (width, height))\n",
    "frame = cv2.cvtColor(frame, cv2.COLOR_BGR2RGB)  # bgr -> rgb\n",
    "h, w, c = frame.shape  # 获取图片形状\n",
    "image = QImage(frame, w, h, 3 * w, QImage.Format_RGB888)"
   ]
  },
  {
   "cell_type": "code",
   "execution_count": 7,
   "metadata": {},
   "outputs": [
    {
     "data": {
      "text/plain": [
       "<PySide6.QtGui.QImage(QSize(400, 600),format=QImage::Format_RGB888,depth=24,devicePixelRatio=1,bytesPerLine=1200,sizeInBytes=720000) at 0x000002877DEED600>"
      ]
     },
     "execution_count": 7,
     "metadata": {},
     "output_type": "execute_result"
    }
   ],
   "source": [
    "image.scaledToHeight(600)"
   ]
  },
  {
   "cell_type": "code",
   "execution_count": 23,
   "metadata": {},
   "outputs": [],
   "source": [
    "import cv2\n",
    "from PySide6.QtPrintSupport import QPrintDialog, QPrinter\n",
    "from PySide6.QtWidgets import (QApplication, QDialog, QFileDialog, QLabel,\n",
    "                               QMainWindow, QMessageBox, QScrollArea,\n",
    "                               QSizePolicy)\n",
    "from PySide6.QtGui import (QColorSpace, QGuiApplication,\n",
    "                           QImageReader, QImageWriter, QKeySequence,\n",
    "                           QPalette, QPainter, QPixmap, QImage)\n",
    "from PySide6.QtCore import QDir, QStandardPaths, Qt, Slot, QSize"
   ]
  },
  {
   "cell_type": "code",
   "execution_count": 27,
   "metadata": {},
   "outputs": [
    {
     "name": "stdout",
     "output_type": "stream",
     "text": [
      "\u001b[1;31mDocstring:\u001b[0m <no docstring>\n",
      "\u001b[1;31mType:\u001b[0m      method_descriptor"
     ]
    },
    {
     "ename": "",
     "evalue": "",
     "output_type": "error",
     "traceback": [
      "\u001b[1;31m在当前单元格或上一个单元格中执行代码时 Kernel 崩溃。\n",
      "\u001b[1;31m请查看单元格中的代码，以确定故障的可能原因。\n",
      "\u001b[1;31m单击<a href='https://aka.ms/vscodeJupyterKernelCrash'>此处</a>了解详细信息。\n",
      "\u001b[1;31m有关更多详细信息，请查看 Jupyter <a href='command:jupyter.viewOutput'>log</a>。"
     ]
    }
   ],
   "source": [
    "QLabel.drawFrame()"
   ]
  },
  {
   "cell_type": "code",
   "execution_count": null,
   "metadata": {},
   "outputs": [],
   "source": []
  }
 ],
 "metadata": {
  "kernelspec": {
   "display_name": "py312",
   "language": "python",
   "name": "python3"
  },
  "language_info": {
   "codemirror_mode": {
    "name": "ipython",
    "version": 3
   },
   "file_extension": ".py",
   "mimetype": "text/x-python",
   "name": "python",
   "nbconvert_exporter": "python",
   "pygments_lexer": "ipython3",
   "version": "3.12.7"
  }
 },
 "nbformat": 4,
 "nbformat_minor": 2
}
